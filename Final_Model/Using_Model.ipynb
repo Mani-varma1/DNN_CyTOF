{
 "cells": [
  {
   "cell_type": "code",
   "execution_count": 1,
   "id": "f38996bd",
   "metadata": {},
   "outputs": [],
   "source": [
    "import os\n",
    "import glob\n",
    "import tempfile\n",
    "# os.environ['CUDA_VISIBLE_DEVICES'] = '-1' # uncomment for cpu\n",
    "\n",
    "from itertools import cycle\n",
    "from collections import Counter as ct\n",
    "\n",
    "import tensorflow as tf\n",
    "from tensorflow import keras\n",
    "from keras.utils import to_categorical\n",
    "from tensorflow.keras.models import Sequential\n",
    "from tensorflow.keras.layers import Activation, Dense, Dropout, BatchNormalization\n",
    "from tensorflow.keras.optimizers import Adam\n",
    "from tensorflow.keras.metrics import categorical_crossentropy\n",
    "from tensorflow.keras.regularizers import l2\n",
    "\n",
    "\n",
    "\n",
    "import sklearn\n",
    "from sklearn.metrics import confusion_matrix, classification_report, roc_curve, auc, roc_auc_score\n",
    "from sklearn.model_selection import train_test_split\n",
    "from sklearn.preprocessing import StandardScaler, LabelEncoder,LabelBinarizer,OneHotEncoder\n",
    "\n",
    "\n",
    "import matplotlib as mpl\n",
    "import matplotlib.pyplot as plt\n",
    "import numpy as np\n",
    "import pandas as pd\n",
    "import seaborn as sns\n",
    "seed =1337"
   ]
  },
  {
   "cell_type": "code",
   "execution_count": 12,
   "id": "d5491c6e",
   "metadata": {},
   "outputs": [],
   "source": [
    "path = \"\"#\"Please copy the file location here whilst using doblue back slashes \"\\\\\" for directory seperation\"\"\n",
    "\n",
    "\n",
    "\n",
    "all_files = glob.glob(os.path.join(path, \"*.csv\"))\n",
    "df1_from_each_file = (pd.read_csv(f) for f in all_files)\n",
    "df1   = pd.concat(df1_from_each_file, ignore_index=True)\n"
   ]
  },
  {
   "cell_type": "code",
   "execution_count": 13,
   "id": "d1ee1ca3",
   "metadata": {},
   "outputs": [],
   "source": [
    "try:\n",
    "    df1_temp = df1.loc[:,[\"CD66\",\"CD45\",\"CD16\",\"CD3\",\"CD19\",\"CD27\",\"CD8\",\"CD4\",\"CD14\",\"HLADR\",\"CD56\",\"Species\"]]\n",
    "    species = set(df1_temp['Species'])\n",
    "except:\n",
    "    print (\"\"\"Please provide all the markers from following list:\n",
    "    CD66,\n",
    "    CD45,\n",
    "    CD16,\n",
    "    CD3,\n",
    "    CD19,\n",
    "    CD27,\n",
    "    CD8,\n",
    "    CD4,\n",
    "    CD14,\n",
    "    HLADR,\n",
    "    CD56,\n",
    "    Species\"\"\")"
   ]
  },
  {
   "cell_type": "markdown",
   "id": "7e7b1da6",
   "metadata": {},
   "source": [
    "# Data Prep"
   ]
  },
  {
   "cell_type": "code",
   "execution_count": 14,
   "id": "252cd97c",
   "metadata": {},
   "outputs": [],
   "source": [
    "df1_s = df1_temp.pop('Species')\n",
    "# One Hot Encoding\n",
    "spec_enc = LabelEncoder()\n",
    "integer_encoded = spec_enc.fit_transform(df1_s)\n",
    "# binary encode\n",
    "onehot_encoder = OneHotEncoder(sparse=False)\n",
    "\n",
    "integer_encoded = integer_encoded.reshape(len(integer_encoded), 1)\n",
    "onehot_encoded = onehot_encoder.fit_transform(integer_encoded)\n",
    "# join the dataframes\n",
    "df1_temp = df1_temp.join(pd.DataFrame(onehot_encoded,columns=spec_enc.classes_))\n",
    "df1_temp\n",
    "\n",
    "n_features = 14\n",
    "# Create empy columns for missing species\n",
    "if df1_temp.shape[1] != 14:\n",
    "    all_species = {\"H\",\"M\",\"R\"}\n",
    "    for i in all_species:\n",
    "        if i not in species:\n",
    "            df1_temp[i]= 0\n",
    "\n",
    "#Order them   \n",
    "df1_temp = df1_temp.loc[:,[\"CD66\",\"CD45\",\"CD16\",\"CD3\",\"CD19\",\"CD27\",\"CD8\",\"CD4\",\"CD14\",\"HLADR\",\"CD56\",\"H\",\"M\",\"R\"]]\n",
    "\n",
    "\n"
   ]
  },
  {
   "cell_type": "code",
   "execution_count": 15,
   "id": "b8797801",
   "metadata": {},
   "outputs": [],
   "source": [
    "# Create the network\n",
    "\n",
    "model =  keras.models.load_model('./model/')\n"
   ]
  },
  {
   "cell_type": "code",
   "execution_count": 17,
   "id": "93562557",
   "metadata": {},
   "outputs": [
    {
     "name": "stdout",
     "output_type": "stream",
     "text": [
      "2416/2416 [==============================] - 4s 1ms/step\n"
     ]
    }
   ],
   "source": [
    "predictions = model.predict(df1_temp)\n",
    "predictions = np.argmax(predictions, axis=1)"
   ]
  },
  {
   "cell_type": "code",
   "execution_count": 18,
   "id": "6248a5ab",
   "metadata": {},
   "outputs": [],
   "source": [
    "cell_types = {0 : 'B-Cell', \n",
    "              1 : 'DC', \n",
    "              2 : 'Eosinophile', \n",
    "              3 : 'Monocyte' , \n",
    "              4 : 'NK',\n",
    "              5 : 'Neutrophile' , \n",
    "              6 : 'T-Cell', \n",
    "              7 : 'Unassigned' }\n",
    "cell_lst = []\n",
    "for i in list(predictions):\n",
    "    cell_lst.append(cell_types[i])\n",
    "df1_temp['Cell'] = pd.Series(cell_lst)"
   ]
  },
  {
   "cell_type": "code",
   "execution_count": 19,
   "id": "84cb0a5e",
   "metadata": {},
   "outputs": [
    {
     "data": {
      "image/png": "[encoded data removed]",
      "text/plain": [
       "<Figure size 1008x360 with 2 Axes>"
      ]
     },
     "metadata": {
      "needs_background": "light"
     },
     "output_type": "display_data"
    }
   ],
   "source": [
    "%matplotlib inline\n",
    "fig, axs = plt.subplots(ncols=2, figsize=(14, 5))\n",
    "fig.tight_layout(pad=5.0)\n",
    "df1_temp['Cell'].value_counts().plot(kind='pie',ax=axs[1])\n",
    "sns.countplot(x='Cell',data=df1,ax=axs[0])\n",
    "plt.show()"
   ]
  },
  {
   "cell_type": "code",
   "execution_count": 20,
   "id": "18f570aa",
   "metadata": {},
   "outputs": [],
   "source": [
    "df1_temp.to_csv(\"Cell_Predictions.csv\")"
   ]
  },
  {
   "cell_type": "markdown",
   "id": "4e438f53",
   "metadata": {},
   "source": [
    "# Evalution Section Only to Be Used for Manual Validation\n",
    "## For using please uncomment and provide the list of cells encoded as integers"
   ]
  },
  {
   "cell_type": "code",
   "execution_count": null,
   "id": "973fde0f",
   "metadata": {},
   "outputs": [],
   "source": [
    "# Provide Cell list in order\n",
    "# = []"
   ]
  },
  {
   "cell_type": "code",
   "execution_count": null,
   "id": "d07dae35",
   "metadata": {},
   "outputs": [],
   "source": [
    "# pred_bool = np.argmax(predictions, axis=1)\n",
    "# target_names=['B-Cell','DC','Eosinophile','Monocyte','NK','Neutrophile','T-Cells','Unassigned']\n",
    "# # Metrics\n",
    "# print(classification_report(test_encoded, pred_bool,target_names=target_names))"
   ]
  },
  {
   "cell_type": "markdown",
   "id": "43441287",
   "metadata": {},
   "source": [
    "# Confusion matrix"
   ]
  },
  {
   "cell_type": "code",
   "execution_count": null,
   "id": "5800b32f",
   "metadata": {},
   "outputs": [],
   "source": [
    "# matrix_confusion = confusion_matrix(test_encoded, predictions.argmax(axis=1))\n",
    "\n",
    "# # Normalise\n",
    "# cmn = matrix_confusion.astype('float') / matrix_confusion.sum(axis=1)[:, np.newaxis]\n",
    "# fig, axs = plt.subplots(ncols=3,figsize=(14, 7),gridspec_kw=dict(width_ratios=[12,12,0.5]))\n",
    "# fig.tight_layout()\n",
    "\n",
    "# sns.heatmap(matrix_confusion, annot=True, fmt='.0f',cbar=False, xticklabels=target_names, yticklabels=target_names,ax=axs[0])\n",
    "# sns.heatmap(cmn, annot=True, fmt='.2f',cbar=False, xticklabels=target_names, yticklabels=target_names,ax=axs[1])\n",
    "# fig.colorbar(axs[1].collections[0], cax=axs[2])\n",
    "# plt.ylabel('Actual')\n",
    "# plt.xlabel('Predicted')\n",
    "# plt.show(block=False)"
   ]
  },
  {
   "cell_type": "markdown",
   "id": "bf92f831",
   "metadata": {},
   "source": [
    "# ROC curve with auc"
   ]
  },
  {
   "cell_type": "code",
   "execution_count": null,
   "id": "b9a50cd7",
   "metadata": {},
   "outputs": [],
   "source": [
    "# lw = 2\n",
    "\n",
    "# lb = LabelBinarizer()\n",
    "# lb.fit(test_encoded)\n",
    "# y_true = lb.transform(test_encoded)\n",
    "# y_pred = lb.transform(pred_bool)\n",
    "\n",
    "\n",
    "# # Compute ROC curve and ROC area for each class\n",
    "# fpr = dict()\n",
    "# tpr = dict()\n",
    "# roc_auc = dict()\n",
    "# for i in range(n_classes):\n",
    "#     fpr[i], tpr[i], _ = roc_curve(y_true[:, i], y_pred[:, i])\n",
    "#     roc_auc[i] = auc(fpr[i], tpr[i])\n",
    "    \n",
    "    \n",
    "\n",
    "# # Compute micro-average ROC curve and ROC area\n",
    "# fpr[\"micro\"], tpr[\"micro\"], _ = roc_curve(y_true.ravel(), y_pred.ravel())\n",
    "# roc_auc[\"micro\"] = auc(fpr[\"micro\"], tpr[\"micro\"])\n",
    "    \n",
    "# # Compute macro-average ROC curve and ROC area\n",
    "\n",
    "# # First aggregate all false positive rates\n",
    "# all_fpr = np.unique(np.concatenate([fpr[i] for i in range(n_classes)]))\n",
    "\n",
    "# # Then interpolate all ROC curves at this points\n",
    "# mean_tpr = np.zeros_like(all_fpr)\n",
    "# for i in range(n_classes):\n",
    "#     mean_tpr += np.interp(all_fpr, fpr[i], tpr[i])\n",
    "\n",
    "# # Finally average it and compute AUC\n",
    "# mean_tpr /= n_classes\n",
    "\n",
    "# fpr[\"macro\"] = all_fpr\n",
    "# tpr[\"macro\"] = mean_tpr\n",
    "# roc_auc[\"macro\"] = auc(fpr[\"macro\"], tpr[\"macro\"])\n",
    "\n",
    "# # Plot all ROC curves\n",
    "# plt.figure(figsize=(10, 8))\n",
    "# plt.plot(fpr[\"micro\"], tpr[\"micro\"],\n",
    "#          label=f'micro-average ROC curve (area = {roc_auc[\"micro\"]:0.2f})',\n",
    "#          color='deeppink', linestyle=':', linewidth=4)\n",
    "\n",
    "# plt.plot(fpr[\"macro\"], tpr[\"macro\"],\n",
    "#          label=f'macro-average ROC curve (area = {roc_auc[\"macro\"]:0.2f})',\n",
    "#          color='navy', linestyle=':', linewidth=4)\n",
    "\n",
    "# colors = cycle(['aqua', 'darkorange', 'cornflowerblue','crimson','darkred','darkolivegreen','violet','lightgreen'])\n",
    "# for i, color in zip(range(n_classes), colors):\n",
    "#     plt.plot(fpr[i], tpr[i], color=color, lw=lw,\n",
    "#              label=f'ROC curve of {target_names[i]} (area = {roc_auc[i]:0.2f})')\n",
    "\n",
    "# plt.plot([0, 1], [0, 1], 'k--', lw=lw)\n",
    "# plt.xlim([0.0, 1.0])\n",
    "# plt.ylim([0.0, 1.05])\n",
    "# plt.xlabel('False Positive Rate')\n",
    "# plt.ylabel('True Positive Rate')\n",
    "# plt.title('Receiver operating characteristic to multi-class')\n",
    "# plt.legend(loc=\"lower right\")\n",
    "\n",
    "# plt.show()\n"
   ]
  },
  {
   "cell_type": "code",
   "execution_count": null,
   "id": "8b106585",
   "metadata": {},
   "outputs": [],
   "source": []
  },
  {
   "cell_type": "code",
   "execution_count": null,
   "id": "30ba3ff3",
   "metadata": {},
   "outputs": [],
   "source": []
  },
  {
   "cell_type": "code",
   "execution_count": null,
   "id": "b8c16b3d",
   "metadata": {},
   "outputs": [],
   "source": []
  }
 ],
 "metadata": {
  "kernelspec": {
   "display_name": "Python 3 (ipykernel)",
   "language": "python",
   "name": "python3"
  },
  "language_info": {
   "codemirror_mode": {
    "name": "ipython",
    "version": 3
   },
   "file_extension": ".py",
   "mimetype": "text/x-python",
   "name": "python",
   "nbconvert_exporter": "python",
   "pygments_lexer": "ipython3",
   "version": "3.10.4"
  }
 },
 "nbformat": 4,
 "nbformat_minor": 5
}
